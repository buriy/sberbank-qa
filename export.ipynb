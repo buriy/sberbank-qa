{
 "cells": [
  {
   "cell_type": "code",
   "execution_count": 1,
   "metadata": {},
   "outputs": [],
   "source": [
    "%load_ext autoreload\n",
    "%autoreload 2\n",
    "\n",
    "import torch\n",
    "import pickle\n",
    "\n",
    "weights_file = 'data/models/drqa-v7-0.774917423379.pt'\n",
    "embedding_dim = 300"
   ]
  },
  {
   "cell_type": "code",
   "execution_count": 2,
   "metadata": {
    "collapsed": true
   },
   "outputs": [],
   "source": [
    "weights = torch.load(weights_file, map_location=lambda storage, loc: storage)\n",
    "\n",
    "with open('data/qas_' + str(embedding_dim) +'.pickle', 'rb') as f:\n",
    "    qas = pickle.load(f)\n",
    "    \n",
    "qas.tokenizer.vocab.shrink(weights['embedding.weight'][:202].tolist())\n",
    "\n",
    "with open('model/vocab.pickle', 'wb') as f:\n",
    "    pickle.dump(qas.tokenizer.vocab, f)\n",
    "\n",
    "del weights['fixed_embedding']\n",
    "del weights['embedding.weight']\n",
    "\n",
    "with open('model/weights.pickle', 'wb') as f:\n",
    "    pickle.dump(weights, f)"
   ]
  }
 ],
 "metadata": {
  "kernelspec": {
   "display_name": "Python 3",
   "language": "python",
   "name": "python3"
  },
  "language_info": {
   "codemirror_mode": {
    "name": "ipython",
    "version": 3
   },
   "file_extension": ".py",
   "mimetype": "text/x-python",
   "name": "python",
   "nbconvert_exporter": "python",
   "pygments_lexer": "ipython3",
   "version": "3.6.1"
  }
 },
 "nbformat": 4,
 "nbformat_minor": 2
}
