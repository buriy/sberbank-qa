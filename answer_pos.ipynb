{
 "cells": [
  {
   "cell_type": "code",
   "execution_count": 1,
   "metadata": {},
   "outputs": [],
   "source": [
    "%load_ext autoreload\n",
    "%autoreload 2\n",
    "\n",
    "import re\n",
    "import torch\n",
    "import pickle\n",
    "import pandas as pd\n",
    "from util.nlp import QA, Paragraph, Tokenizer\n",
    "from util.model import QaPredictModel"
   ]
  },
  {
   "cell_type": "code",
   "execution_count": 2,
   "metadata": {},
   "outputs": [
    {
     "name": "stderr",
     "output_type": "stream",
     "text": [
      "100%|██████████████████████████████████████████████████████████████████████████| 50362/50362 [01:08<00:00, 740.53doc/s]\n",
      "100%|██████████████████████████████████████████████████████████████████████████| 50362/50362 [01:02<00:00, 810.82doc/s]\n"
     ]
    }
   ],
   "source": [
    "with open('model/weights.pickle', 'rb') as f:\n",
    "    weights = pickle.load(f)\n",
    "\n",
    "with open('model/vocab.pickle', 'rb') as f:\n",
    "    vocab = pickle.load(f)\n",
    "\n",
    "qas = QA(tokenizer=Tokenizer(vocab=vocab))\n",
    "df = qas.load_train()\n",
    "\n",
    "X, y = qas.get_Xy()\n",
    "embedding = torch.Tensor(qas.tokenizer.vocab.embeddings)\n",
    "\n",
    "model = QaPredictModel({\n",
    "    'num_features': len(X['paragraph_features'].iloc[0][0]),\n",
    "    'hidden_size': 64,\n",
    "    'doc_layers': 3,\n",
    "    'question_layers': 3,\n",
    "    'dropout_emb': 0.3,\n",
    "    'dropout_rnn': 0.3,\n",
    "    'tune_partial': 0,\n",
    "    'cuda': True\n",
    "}, embedding, weights)"
   ]
  },
  {
   "cell_type": "code",
   "execution_count": 3,
   "metadata": {},
   "outputs": [
    {
     "name": "stderr",
     "output_type": "stream",
     "text": [
      "100%|███████████████████████████████████████████████████████████████████████████████| 46/46 [00:08<00:00,  5.90batch/s]\n"
     ]
    }
   ],
   "source": [
    "df['paragraph'] = y['paragraph_text'].values\n",
    "df['answer'] = y['answer'].values\n",
    "df['i'] = range(len(df))\n",
    "\n",
    "def get_answer_starts(row):\n",
    "    paragraph = Paragraph(row['paragraph'], tokenizer=qas.tokenizer)\n",
    "    matches = re.finditer(re.escape(row['answer'].lower()), paragraph.text.lower())\n",
    "    return [paragraph.find_answer_span(m.start(), m.start() + len(row['answer']))[0] for m in matches]\n",
    "\n",
    "answer_starts = df.apply(get_answer_starts, axis=1)\n",
    "multi_answers = answer_starts[answer_starts.map(len) > 1]\n",
    "idx = df.loc[multi_answers.index]['i'].values.tolist()\n",
    "predicts = list(model.predicts(X.loc[idx], y.loc[idx]))"
   ]
  },
  {
   "cell_type": "code",
   "execution_count": 4,
   "metadata": {},
   "outputs": [],
   "source": [
    "df2 = pd.DataFrame({'starts': multi_answers})\n",
    "df2['predict'] = predicts\n",
    "\n",
    "def get_best_start(row):\n",
    "    scores = [row['predict'].scores_start[s] for s in row['starts']]\n",
    "    return scores.index(max(scores))\n",
    "\n",
    "answer_pos = pd.DataFrame({'answer_pos': df2.apply(get_best_start, axis=1)})\n",
    "answer_pos[answer_pos['answer_pos'] > 0].to_csv('data/answer_pos.csv')"
   ]
  }
 ],
 "metadata": {
  "kernelspec": {
   "display_name": "Python 3",
   "language": "python",
   "name": "python3"
  },
  "language_info": {
   "codemirror_mode": {
    "name": "ipython",
    "version": 3
   },
   "file_extension": ".py",
   "mimetype": "text/x-python",
   "name": "python",
   "nbconvert_exporter": "python",
   "pygments_lexer": "ipython3",
   "version": "3.6.1"
  }
 },
 "nbformat": 4,
 "nbformat_minor": 2
}
