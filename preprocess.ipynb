{
 "cells": [
  {
   "cell_type": "code",
   "execution_count": 1,
   "metadata": {},
   "outputs": [],
   "source": [
    "%load_ext autoreload\n",
    "%autoreload 2\n",
    "\n",
    "from util.nlp import QA, Tokenizer, Vocab\n",
    "import pickle"
   ]
  },
  {
   "cell_type": "code",
   "execution_count": 2,
   "metadata": {},
   "outputs": [
    {
     "name": "stderr",
     "output_type": "stream",
     "text": [
      "100%|██████████████████████████████████████████████████████████████████████████| 50362/50362 [01:13<00:00, 688.47doc/s]\n"
     ]
    }
   ],
   "source": [
    "embedding_size = 300\n",
    "\n",
    "vocab = Vocab(embedding_size=embedding_size)\n",
    "tokenizer = Tokenizer(vocab=vocab)\n",
    "qas = QA(tokenizer=tokenizer)\n",
    "\n",
    "qas.load_train()\n",
    "qas.rebuild_vocab()\n",
    "qas.tokenizer.reinit()"
   ]
  },
  {
   "cell_type": "code",
   "execution_count": 3,
   "metadata": {},
   "outputs": [
    {
     "name": "stderr",
     "output_type": "stream",
     "text": [
      "100%|█████████████████████████████████████████████████████████████████████████| 50362/50362 [00:46<00:00, 1084.07doc/s]\n"
     ]
    }
   ],
   "source": [
    "with open('data/qas_' + str(embedding_size) + '.pickle', 'wb') as f:\n",
    "    pickle.dump(qas, f)\n",
    "\n",
    "X, y = qas.get_Xy()\n",
    "emb = vocab.embeddings\n",
    "\n",
    "with open('data/Xy_emb_' + str(embedding_size) + '.pickle', 'wb') as f:\n",
    "    pickle.dump((X, y, emb), f)"
   ]
  }
 ],
 "metadata": {
  "kernelspec": {
   "display_name": "Python 3",
   "language": "python",
   "name": "python3"
  },
  "language_info": {
   "codemirror_mode": {
    "name": "ipython",
    "version": 3
   },
   "file_extension": ".py",
   "mimetype": "text/x-python",
   "name": "python",
   "nbconvert_exporter": "python",
   "pygments_lexer": "ipython3",
   "version": "3.6.1"
  }
 },
 "nbformat": 4,
 "nbformat_minor": 2
}
