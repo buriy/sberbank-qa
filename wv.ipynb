{
 "cells": [
  {
   "cell_type": "code",
   "execution_count": 1,
   "metadata": {},
   "outputs": [
    {
     "name": "stderr",
     "output_type": "stream",
     "text": [
      "D:\\Anaconda3\\lib\\site-packages\\gensim\\utils.py:862: UserWarning: detected Windows; aliasing chunkize to chunkize_serial\n",
      "  warnings.warn(\"detected Windows; aliasing chunkize to chunkize_serial\")\n"
     ]
    }
   ],
   "source": [
    "import pickle\n",
    "import pandas as pd\n",
    "from sklearn.decomposition import PCA\n",
    "from gensim.models import KeyedVectors\n",
    "\n",
    "wv = KeyedVectors.load_word2vec_format('data/ruscorpora_300.bin', binary=True, encoding='utf8')"
   ]
  },
  {
   "cell_type": "code",
   "execution_count": 2,
   "metadata": {},
   "outputs": [
    {
     "data": {
      "text/plain": [
       "0.64765180223679664"
      ]
     },
     "execution_count": 2,
     "metadata": {},
     "output_type": "execute_result"
    }
   ],
   "source": [
    "wv_300_keys = []\n",
    "wv_300_vals = []\n",
    "\n",
    "for k in wv.vocab.keys():\n",
    "    wv_300_keys.append(k)\n",
    "    wv_300_vals.append(list(wv[k]))\n",
    "\n",
    "df = pd.DataFrame(wv_300_vals, index=wv_300_keys, columns=range(300))\n",
    "df.sort_index().to_pickle('data/wv_300.pickle')\n",
    "\n",
    "pca = PCA(n_components=100, svd_solver='randomized')\n",
    "data100 = pca.fit_transform(df.values)\n",
    "wv_100 = pd.DataFrame(data100, index=df.index, columns=range(100))\n",
    "wv_100.to_pickle('data/wv_100.pickle')\n",
    "\n",
    "sum(pca.explained_variance_ratio_)"
   ]
  }
 ],
 "metadata": {
  "kernelspec": {
   "display_name": "Python 3",
   "language": "python",
   "name": "python3"
  },
  "language_info": {
   "codemirror_mode": {
    "name": "ipython",
    "version": 3
   },
   "file_extension": ".py",
   "mimetype": "text/x-python",
   "name": "python",
   "nbconvert_exporter": "python",
   "pygments_lexer": "ipython3",
   "version": "3.6.1"
  }
 },
 "nbformat": 4,
 "nbformat_minor": 2
}
